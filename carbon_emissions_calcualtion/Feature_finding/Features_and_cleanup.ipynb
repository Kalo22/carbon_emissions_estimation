{
 "cells": [
  {
   "cell_type": "markdown",
   "id": "84e3d3d5-adf0-43a1-bbb1-813355624966",
   "metadata": {},
   "source": [
    "# Cleanum of the collected Data and Feature finding (Fuel and Source/Destination)"
   ]
  },
  {
   "cell_type": "markdown",
   "id": "2824513d-52fc-4a8a-be90-178fcc8e986d",
   "metadata": {},
   "source": [
    "# NOTE: The code does not work in a single run, since one of the API servers is very slow and data had to be run in a couple of batches thouought several days, with intermediate code corrections\n"
   ]
  },
  {
   "cell_type": "code",
   "execution_count": 80,
   "id": "d6eb5f94-5308-416c-b8a7-c40c0c05effb",
   "metadata": {},
   "outputs": [],
   "source": [
    "import pandas as pd\n",
    "import requests\n",
    "import time\n",
    "import json\n",
    "import numpy as np\n",
    "from IPython.display import display\n",
    "\n",
    "from sklearn.model_selection import train_test_split\n",
    "from sklearn.linear_model import LinearRegression\n",
    "from sklearn.metrics import mean_absolute_error"
   ]
  },
  {
   "cell_type": "code",
   "execution_count": 81,
   "id": "179ba2a8-1210-4507-8f21-3838b69e338d",
   "metadata": {},
   "outputs": [],
   "source": [
    "#Preliminary Parameters\n",
    "file_name = 'completed_fligths_last.csv'\n",
    "pd.set_option('display.max_rows', None)\n",
    "req_window = 2\n",
    "min_threashold = 150"
   ]
  },
  {
   "cell_type": "code",
   "execution_count": 82,
   "id": "f6b27fb4-b063-435f-af2b-b8443dac8639",
   "metadata": {},
   "outputs": [],
   "source": [
    "def find_src_airport_and_country(lon, lat):\n",
    "\n",
    "    print(\"req made\")\n",
    "    url = \"https://aviation-reference-data.p.rapidapi.com/airports/search\"\n",
    "\n",
    "    querystring = {\"lat\": f\"{lat}\",\"lon\": f\"{lon}\",\"radius\":\"10\"}\n",
    "\n",
    "    headers = {\n",
    "    \t\"X-RapidAPI-Key\": \"1daecde3ebmshc01fb168d310d25p1e0b29jsn22e5a1c9059e\",\n",
    "    \t\"X-RapidAPI-Host\": \"aviation-reference-data.p.rapidapi.com\"\n",
    "    }\n",
    "    \n",
    "    response = requests.get(url, headers=headers, params=querystring)\n",
    "    if response.status_code == 200:\n",
    "        data = response.json()\n",
    "        if data:\n",
    "            first_object = data[0]\n",
    "            iata_code = first_object.get(\"iataCode\")\n",
    "            alpha2_country_code = first_object.get(\"alpha2countryCode\")\n",
    "            return iata_code, alpha2_country_code\n",
    "    return \"NO DATA\", \"NO DATA\""
   ]
  },
  {
   "cell_type": "code",
   "execution_count": 83,
   "id": "2ba2509b-f3f0-4e72-aefc-2658d7639340",
   "metadata": {},
   "outputs": [],
   "source": [
    "def find_dest_airport_and_country(lon, lat):\n",
    "\n",
    "    print(\"req made\")\n",
    "    url = \"https://aviation-reference-data.p.rapidapi.com/airports/search\"\n",
    "    \n",
    "    querystring = {\"lat\": f\"{lat}\",\"lon\": f\"{lon}\",\"radius\":\"10\"}\n",
    "\n",
    "    headers = {\n",
    "    \t\"X-RapidAPI-Key\": \"1daecde3ebmshc01fb168d310d25p1e0b29jsn22e5a1c9059e\",\n",
    "    \t\"X-RapidAPI-Host\": \"aviation-reference-data.p.rapidapi.com\"\n",
    "    }\n",
    "    \n",
    "    response = requests.get(url, headers=headers, params=querystring)\n",
    "    if response.status_code == 200:\n",
    "        data = response.json()\n",
    "        if data:\n",
    "            first_object = data[0]\n",
    "            iata_code = first_object.get(\"iataCode\")\n",
    "            alpha2_country_code = first_object.get(\"alpha2countryCode\")\n",
    "            return iata_code, alpha2_country_code\n",
    "    return \"NO DATA\", \"NO DATA\""
   ]
  },
  {
   "cell_type": "code",
   "execution_count": 84,
   "id": "17d884f2-03d8-40f9-bda0-73ac0b9c7df2",
   "metadata": {},
   "outputs": [],
   "source": [
    "def get_fuel_consumption(df):\n",
    "\n",
    "    #df = df.head(200)\n",
    "    icaos = df['icao'].tolist()\n",
    "    distances = df['distance(km)'].tolist()\n",
    "\n",
    "    icaos = [str(item) for item in icaos]\n",
    "    distances = [str(item) for item in distances]\n",
    "\n",
    "    for i in range(len(icaos)):\n",
    "        # Remove commas from the current string item\n",
    "        icaos[i] = icaos[i].replace(\",\", \"\")\n",
    "\n",
    "    icaos_string = '[' + ','.join(icaos) + ']'\n",
    "    distances_string = '[' + ','.join(distances) + ']'\n",
    "\n",
    "    #print(icaos_string)\n",
    "    #print(distances_string)\n",
    "\n",
    "    url = f\"https://despouy.ca/flight-fuel-api/q/?aircraft=[{icaos_string}]&distance=[{distances_string}]\"\n",
    "\n",
    "    response = requests.get(url)\n",
    "    data = response.json()\n",
    "\n",
    "    features_list = []\n",
    "    for item in data:\n",
    "        icao = item.get('icao24', 'NO DATA')\n",
    "        model = item.get('model', 'NO DATA')\n",
    "        co2 = item.get('co2', 'NO DATA')\n",
    "        fuel = item.get('fuel', 'NO DATA')\n",
    "        features_list.append({'icao': icao, 'model': model, 'co2': co2, 'fuel': fuel})\n",
    "    \n",
    "    # Convert list of dictionaries to DataFrame\n",
    "    df_fuel = pd.DataFrame(features_list)\n",
    "\n",
    "    merged_df = pd.merge(df, df_fuel, on='icao', how='left')\n",
    "    merged_df = merged_df.fillna('NO DATA')\n",
    "\n",
    "    return merged_df\n",
    "\n",
    "    #df.to_csv(\"fuel.csv\", index=False)"
   ]
  },
  {
   "cell_type": "code",
   "execution_count": 85,
   "id": "d871dc86-61e9-4905-981c-b11d4a8ba765",
   "metadata": {},
   "outputs": [],
   "source": [
    "def pretty_df_func(df):\n",
    "\n",
    "    #columns_to_keep = ['icao', 'model', 'co2', 'fuel', 'distance(km)', 'flight_duration', 'src_country', 'dest_country', 'src_airport', 'dest_airport']\n",
    "    #df_pretty = df.loc[:, columns_to_keep]\n",
    "\n",
    "    #df_pretty.to_csv(\"pretty.csv\", index=False)\n",
    "    df.to_csv(\"completed_second_half.csv\", index=False)"
   ]
  },
  {
   "cell_type": "code",
   "execution_count": 86,
   "id": "b46ede53-9b79-418f-bd53-635185bcb67e",
   "metadata": {},
   "outputs": [],
   "source": [
    "def predict_distance(short_df, long_df):\n",
    "    \n",
    "    predictors = long_df['distance(km)']\n",
    "    short_df.loc[:, 'distance(km)'] = 0\n",
    "    short_df.loc[:, 'flight_duration'] = 'NO DATA'\n",
    "\n",
    "    # Generate indices for the DataFrame and the list\n",
    "    df_indices = np.linspace(0, len(predictors) - 1, len(short_df))\n",
    "\n",
    "    # Interpolate values from the list to match the length of the DataFrame\n",
    "    interpolated_values = np.interp(df_indices, np.arange(len(predictors)), predictors)\n",
    "\n",
    "    # Assign the interpolated values to the 'distance (km)' column\n",
    "    short_df.loc[:, 'distance(km)'] = interpolated_values.round(2)\n",
    "\n",
    "    df = pd.concat([short_df, long_df], axis=0)\n",
    "\n",
    "    return df\n",
    "    #print(short_df)\n",
    "    "
   ]
  },
  {
   "cell_type": "code",
   "execution_count": 87,
   "id": "6853357e-990b-431d-b7c0-dea2c8581c9d",
   "metadata": {},
   "outputs": [],
   "source": [
    "def cleanup(df):\n",
    "\n",
    "    #clean the data\n",
    "    df['flight_duration'] = df['flight_duration'].str.replace('+', '')\n",
    "\n",
    "    #remove corrupted cases\n",
    "    df['flight_duration'] = pd.to_timedelta(df['flight_duration'])\n",
    "    threshold_duration = pd.Timedelta(hours=4, minutes=30)\n",
    "    df = df[df['flight_duration'] <= threshold_duration]\n",
    "    \n",
    "    #predict the corrupted cases\n",
    "    #short_df = df[df['distance(km)'] < 125]\n",
    "    #long_df = df[df['distance(km)'] >= 125]\n",
    "\n",
    "    #df = predict_distance(short_df, long_df)\n",
    "\n",
    "    return df\n",
    "    #display(short_df)\n",
    "    #print(long_df))\n",
    "\n",
    "    "
   ]
  },
  {
   "cell_type": "code",
   "execution_count": 88,
   "id": "6b865482-e209-49e9-ab0a-18094877a3b7",
   "metadata": {},
   "outputs": [],
   "source": [
    "def run_main():\n",
    "\n",
    "    print(\"process started...\")\n",
    "    df = pd.read_csv(file_name)\n",
    "    #print(df['distance(km)'])\n",
    "    #df = df[df['distance(km)'] > min_threashold] #clean the corrupted flights\n",
    "    df = cleanup(df)\n",
    "    #print(df['distance(km)'])\n",
    "    #df.drop(columns=['Unnamed: 0'], inplace = True)\n",
    "    #print(df.columns)\n",
    "    #print(df)\n",
    "    #display(df)\n",
    "    #df = df.iloc[2000:]\n",
    "    #print(df)\n",
    "    #df.fillna(\"NO DATA\", inplace=True)\n",
    "    #print(df)\n",
    "    \n",
    "    \n",
    "    #df['src_airport'] = \"\"\n",
    "    #df['src_country'] = \"\"\n",
    "    #df['dest_airport'] = \"\"\n",
    "    #df['dest_country'] = \"\"\n",
    "    \n",
    "    for index, row in df.iterrows():\n",
    "        #print('for entered')\n",
    "        src_lon = row['src_lon']\n",
    "        src_lat = row['src_lat']\n",
    "        dest_lon = row['dest_lon']\n",
    "        dest_lat = row['dest_lat']\n",
    "\n",
    "        if row['src_airport'] == 'NO DATA'or row['src_country'] == 'NO DATA':\n",
    "            print('entered')\n",
    "            time.sleep(req_window)\n",
    "            src_airport, src_country = find_src_airport_and_country(src_lon, src_lat)\n",
    "            df.at[index, 'src_airport'] = src_airport\n",
    "            df.at[index, 'src_country'] = src_country\n",
    "        if row['dest_airport'] == 'NO DATA' or row['dest_country'] == 'NO DATA':\n",
    "            print('entered')\n",
    "            time.sleep(req_window)\n",
    "            dest_airport, dest_country = find_dest_airport_and_country(dest_lon, dest_lat)\n",
    "            df.at[index, 'dest_airport'] = dest_airport\n",
    "            df.at[index, 'dest_country'] = dest_country\n",
    "\n",
    "    df.fillna(\"NO DATA\", inplace=True)\n",
    "    \n",
    "    #separate data into smaller pieces for the api\n",
    "    #chunk_size = 400\n",
    "    #chunks = [df[i:i+chunk_size] for i in range(0, len(df), chunk_size)]\n",
    "\n",
    "    #results = []\n",
    "    #for chunk in chunks:\n",
    "        #processed_chunk = get_fuel_consumption(chunk)\n",
    "        #results.append(processed_chunk)\n",
    "\n",
    "    #df = pd.concat(results, ignore_index=True)\n",
    "    \n",
    "    \n",
    "    #df.to_csv(\"database_complete.csv\", index=False) \n",
    "\n",
    "    pretty_df_func(df)\n",
    "\n",
    "    #print(df)\n",
    "    \n",
    "    print(\"process finished!\")"
   ]
  },
  {
   "cell_type": "code",
   "execution_count": 89,
   "id": "dfdd3f51-2a7b-4119-a0b7-40bd182aa25a",
   "metadata": {},
   "outputs": [
    {
     "name": "stdout",
     "output_type": "stream",
     "text": [
      "[{'iataCode': 'PRG', 'icaoCode': 'LKPR', 'name': 'Prague', 'alpha2countryCode': 'CZ', 'latitude': 50.1008, 'longitude': 14.26}]\n"
     ]
    }
   ],
   "source": [
    "import requests\n",
    "\n",
    "url = \"https://aviation-reference-data.p.rapidapi.com/airports/search\"\n",
    "    \n",
    "querystring = {\"lat\": f\"50.1098\",\"lon\": f\"14.2619\",\"radius\":\"10\"}\n",
    "\n",
    "headers = {\n",
    "    \"X-RapidAPI-Key\": \"1daecde3ebmshc01fb168d310d25p1e0b29jsn22e5a1c9059e\",\n",
    "    \"X-RapidAPI-Host\": \"aviation-reference-data.p.rapidapi.com\"\n",
    "}\n",
    "    \n",
    "response = requests.get(url, headers=headers, params=querystring)\n",
    "print(response.json())"
   ]
  },
  {
   "cell_type": "code",
   "execution_count": 93,
   "id": "3281aec8-7eab-47dc-bab5-8e2086a652ec",
   "metadata": {},
   "outputs": [
    {
     "name": "stdout",
     "output_type": "stream",
     "text": [
      "Index(['icao', 'origin_country', 'lon', 'lat', 'alt', 'on_ground',\n",
      "       'velocity(m/s)', 'true_track', 'vertical-rate', 'velocity(km/h)',\n",
      "       'last_contact', 'distance(km)', 'src_lat', 'src_lon', 'take_off_time',\n",
      "       'landing_time', 'took_off', 'landed', 'dest_lat', 'dest_lon',\n",
      "       'flight_duration', 'src_airport', 'src_country', 'dest_airport',\n",
      "       'dest_country', 'model', 'co2', 'fuel'],\n",
      "      dtype='object')\n",
      "3360\n",
      "3247\n"
     ]
    }
   ],
   "source": [
    "def combine_two_halves():\n",
    "    df_first = pd.read_csv('completed_first_half.csv')\n",
    "    df_first.drop(columns='Unnamed: 0', inplace=True)\n",
    "    df_second = pd.read_csv('completed_second_half.csv')\n",
    "\n",
    "    merged_df = pd.concat([df_first, df_second], ignore_index=True)\n",
    "    merged_df.drop(columns='Unnamed: 0', inplace=True)\n",
    "    print(merged_df.columns)\n",
    "    #display(merged_df)\n",
    "\n",
    "    columns_to_keep = ['icao', 'distance(km)', 'model', 'co2', 'fuel', 'distance(km)', 'take_off_time', 'landing_time', 'flight_duration', 'src_country', 'src_airport', 'dest_country', 'dest_airport']\n",
    "    merged_df = merged_df[columns_to_keep]\n",
    "    print(len(merged_df))\n",
    "    merged_df = merged_df[merged_df['icao'].shift(1) != merged_df['icao']]\n",
    "    print(len(merged_df))\n",
    "    merged_df.to_csv('completeddd.csv')\n",
    "\n",
    "combine_two_halves()"
   ]
  },
  {
   "cell_type": "code",
   "execution_count": null,
   "id": "24b38d31-8468-47b4-ab38-9b059df5a0b8",
   "metadata": {
    "scrolled": true
   },
   "outputs": [],
   "source": [
    "run_main()"
   ]
  },
  {
   "cell_type": "code",
   "execution_count": null,
   "id": "df7da918-ad66-4d24-a62d-fd9f0b708c23",
   "metadata": {},
   "outputs": [],
   "source": []
  }
 ],
 "metadata": {
  "kernelspec": {
   "display_name": "Python 3 (ipykernel)",
   "language": "python",
   "name": "python3"
  },
  "language_info": {
   "codemirror_mode": {
    "name": "ipython",
    "version": 3
   },
   "file_extension": ".py",
   "mimetype": "text/x-python",
   "name": "python",
   "nbconvert_exporter": "python",
   "pygments_lexer": "ipython3",
   "version": "3.8.17"
  }
 },
 "nbformat": 4,
 "nbformat_minor": 5
}
