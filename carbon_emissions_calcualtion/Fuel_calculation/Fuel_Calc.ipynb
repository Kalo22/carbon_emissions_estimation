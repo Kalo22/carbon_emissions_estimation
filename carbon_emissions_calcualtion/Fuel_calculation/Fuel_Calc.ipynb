{
 "cells": [
  {
   "cell_type": "markdown",
   "id": "84e3d3d5-adf0-43a1-bbb1-813355624966",
   "metadata": {},
   "source": [
    "# Static database manupulation"
   ]
  },
  {
   "cell_type": "code",
   "execution_count": 1,
   "id": "d6eb5f94-5308-416c-b8a7-c40c0c05effb",
   "metadata": {},
   "outputs": [],
   "source": [
    "import pandas as pd\n",
    "import requests\n",
    "import time\n",
    "import json\n",
    "from IPython.display import display"
   ]
  },
  {
   "cell_type": "code",
   "execution_count": 2,
   "id": "179ba2a8-1210-4507-8f21-3838b69e338d",
   "metadata": {},
   "outputs": [],
   "source": [
    "#Preliminary Parameters\n",
    "file_name = 'pretty.csv'\n",
    "fuel_cons = 'fuelcons.csv'\n",
    "combined_databases = 'combined_databases.csv'"
   ]
  },
  {
   "cell_type": "code",
   "execution_count": 3,
   "id": "da999cec-4d23-4750-9a34-a7f284badae1",
   "metadata": {},
   "outputs": [],
   "source": [
    "def split_data():\n",
    "    pretty_df = pd.read_csv(file_name)\n",
    "    #display(pretty_df)\n",
    "    no_entries_df = pretty_df[pretty_df['fuel'] == 'NO DATA']\n",
    "    old_entries_df = pretty_df[pretty_df['fuel'] != 'NO DATA']\n",
    "    print(len(old_entries_df))\n",
    "    no_entries_df = no_entries_df.drop(columns = ['fuel', 'co2', 'model'])\n",
    "    return no_entries_df, old_entries_df"
   ]
  },
  {
   "cell_type": "code",
   "execution_count": 4,
   "id": "83cbf64f-7b13-455e-9f1d-05a36f796724",
   "metadata": {},
   "outputs": [],
   "source": [
    "def match_iata_to_missing(no_data_entries_df, complete_codes_big_df):\n",
    "    missing_with_iata_df = pd.merge(no_data_entries_df, complete_codes_big_df, on='icao', how='left')\n",
    "    \n",
    "    #input the missing models\n",
    "    filtered_df = missing_with_iata_df[missing_with_iata_df['model'] != \"\"]\n",
    "    model_df = filtered_df[['model', 'typecode']]\n",
    "    model_df = model_df.drop_duplicates(subset=['typecode'])\n",
    "\n",
    "    for index, row in missing_with_iata_df.iterrows():\n",
    "        # Check if the model is empty\n",
    "        if row['model'] == '':\n",
    "            # Find the corresponding model from the second dataframe where typecode matches\n",
    "            corresponding_model = model_df.loc[model_df['typecode'] == row['typecode'], 'model'].values\n",
    "            # Update the model in the first dataframe if a corresponding model is found\n",
    "            if len(corresponding_model) > 0:\n",
    "                missing_with_iata_df.at[index, 'model'] = corresponding_model[0]\n",
    "\n",
    "    return missing_with_iata_df"
   ]
  },
  {
   "cell_type": "code",
   "execution_count": 5,
   "id": "7c86d285-a21d-4bf8-8611-175c533d035a",
   "metadata": {},
   "outputs": [],
   "source": [
    "def calculate_fuel(distance, dist1, dist2, val1, val2):\n",
    "\n",
    "    #using linear interpolation\n",
    "    distance = float(distance)\n",
    "    dist1 = float(dist1)\n",
    "    dist2 = float(dist2)\n",
    "    val1 = float(val1.iloc[0])\n",
    "    val2 = float(val2.iloc[0])\n",
    "    \n",
    "    return round(val1 + ((val2 - val1) * (distance - dist1)) / (dist2 - dist1), 2)"
   ]
  },
  {
   "cell_type": "code",
   "execution_count": 6,
   "id": "8eab5b24-a15c-476b-8154-4398af1454fc",
   "metadata": {},
   "outputs": [],
   "source": [
    "def calculate_co2(fuel):\n",
    "    return fuel * 3.16"
   ]
  },
  {
   "cell_type": "code",
   "execution_count": 7,
   "id": "b0b289b9-85f4-4624-acfb-869a9c61c5d3",
   "metadata": {},
   "outputs": [],
   "source": [
    "def calculations(df):\n",
    "    fuel_df = pd.read_csv(fuel_cons)\n",
    "\n",
    "    #remove the d symbol out of the column names\n",
    "    new_column_names = {}\n",
    "    \n",
    "    for column_name in fuel_df.columns:\n",
    "        # Replace 'd' symbols with empty string\n",
    "        new_column_name = column_name.replace('d', '')\n",
    "        # Store the new column name in the dictionary\n",
    "        new_column_names[column_name] = new_column_name\n",
    "\n",
    "    # Rename the columns using the dictionary\n",
    "    fuel_df = fuel_df.rename(columns=new_column_names)\n",
    "    fuel_df.rename(columns={'Coe': 'code'}, inplace=True)\n",
    "    df['fuel'] = 0\n",
    "    df['co2'] = 0\n",
    "    \n",
    "    valid_iatacodes = df[df['iatacode'].isin(fuel_df['code'])]['iatacode']\n",
    "    df_NaN= df[~df['iatacode'].isin(valid_iatacodes)]\n",
    "    df = df[df['iatacode'].isin(valid_iatacodes)]\n",
    "\n",
    "    #iterate through each row\n",
    "    for index, row in df.iterrows():\n",
    "        matching_row = fuel_df[fuel_df['code'] == row['iatacode']] ###\n",
    "        distance = row['distance(km)']\n",
    "\n",
    "        closest_columns = []\n",
    "        \n",
    "        # Find the thresholds\n",
    "        lower_thresholds = [col for col in fuel_df.columns if col.isdigit() and int(col) <= distance]\n",
    "\n",
    "        lower_bound = max(lower_thresholds) if lower_thresholds else None\n",
    "\n",
    "        if lower_bound:\n",
    "            closest_columns.append(lower_bound)\n",
    "            #find upper bound\n",
    "            column_index = fuel_df.columns.get_loc(lower_bound)\n",
    "            if column_index < len(fuel_df.columns) - 1:\n",
    "                # Get the name of the column to the right\n",
    "                upper_bound = fuel_df.columns[column_index + 1]\n",
    "                closest_columns.append(upper_bound)\n",
    "            else:\n",
    "                closest_columns.append(lower_bound)\n",
    "\n",
    "        # Extract the corresponding values from the row\n",
    "        \n",
    "        if closest_columns[0] == 0:\n",
    "            val1 = 0\n",
    "        else:\n",
    "            val1 = matching_row[closest_columns[0]]\n",
    "        \n",
    "        val2 = matching_row[closest_columns[1]]\n",
    "        dist1 = closest_columns[0]\n",
    "        dist2 = closest_columns[1]\n",
    "\n",
    "        total_fuel = calculate_fuel(distance, dist1, dist2, val1, val2)\n",
    "        co2 = calculate_co2(total_fuel)\n",
    "\n",
    "        #put the values to the database\n",
    "        df.loc[index, 'fuel'] = total_fuel\n",
    "        df.loc[index, 'co2'] = co2\n",
    "        \n",
    "    print(len(df))\n",
    "    print(len(df_NaN))\n",
    "    \n",
    "    return df, df_NaN\n",
    "    "
   ]
  },
  {
   "cell_type": "code",
   "execution_count": 8,
   "id": "9a59eddb-a0e9-4617-a101-19119830efd8",
   "metadata": {},
   "outputs": [],
   "source": [
    "def combine_dataframes(old, new, no):\n",
    "\n",
    "    new = new.copy()\n",
    "    no = no.copy()\n",
    "    new.drop(columns =['typecode', 'iatacode'], inplace = True)\n",
    "    no.drop(columns =['typecode', 'iatacode'], inplace = True)\n",
    "    #combined_df = pd.concat([old, new, no], ignore_index=True)\n",
    "    combined_df = pd.concat([old, new], ignore_index=True)\n",
    "    pd.set_option('display.max_rows', None)\n",
    "    print(len(combined_df))\n",
    "    combined_df.to_csv('processsed_data.csv')"
   ]
  },
  {
   "cell_type": "code",
   "execution_count": 9,
   "id": "88295d68-1c3d-4a11-9139-acc609b0e0c7",
   "metadata": {},
   "outputs": [],
   "source": [
    "def run_main():\n",
    "    print(\"process started...\")\n",
    "    df_combined_databases = pd.read_csv(combined_databases, usecols=['icao','typecode', 'model', 'iatacode'])\n",
    "    no_entries_df, old_entries_df = split_data()\n",
    "    missing_with_iata_df = match_iata_to_missing(no_entries_df, df_combined_databases)\n",
    "    no_entries_df, df_NaN = calculations(missing_with_iata_df)\n",
    "    combine_dataframes(old_entries_df, no_entries_df, df_NaN)\n",
    "    print(\"process finished\")\n"
   ]
  },
  {
   "cell_type": "code",
   "execution_count": 10,
   "id": "432c2bfc-80bf-4d0b-bbb2-03bb9f4c9f80",
   "metadata": {},
   "outputs": [
    {
     "name": "stdout",
     "output_type": "stream",
     "text": [
      "process started...\n",
      "2791\n",
      "569\n",
      "581\n",
      "3360\n",
      "process finished\n"
     ]
    }
   ],
   "source": [
    "run_main()"
   ]
  },
  {
   "cell_type": "code",
   "execution_count": null,
   "id": "f98f9023-45f3-43d9-bca1-5d5684e9fe83",
   "metadata": {},
   "outputs": [],
   "source": []
  }
 ],
 "metadata": {
  "kernelspec": {
   "display_name": "Python 3 (ipykernel)",
   "language": "python",
   "name": "python3"
  },
  "language_info": {
   "codemirror_mode": {
    "name": "ipython",
    "version": 3
   },
   "file_extension": ".py",
   "mimetype": "text/x-python",
   "name": "python",
   "nbconvert_exporter": "python",
   "pygments_lexer": "ipython3",
   "version": "3.8.17"
  }
 },
 "nbformat": 4,
 "nbformat_minor": 5
}
