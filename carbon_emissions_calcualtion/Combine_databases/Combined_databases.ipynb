{
 "cells": [
  {
   "cell_type": "code",
   "execution_count": 8,
   "id": "ef24ec3b-bb0f-4d56-ad6a-0d741a69635b",
   "metadata": {},
   "outputs": [],
   "source": [
    "import pandas as pd\n",
    "import json\n",
    "\n",
    "OSky_data = 'OSky_data.csv'\n",
    "iata_vals = 'icao-iata.csv'"
   ]
  },
  {
   "cell_type": "code",
   "execution_count": 9,
   "id": "02439fc3-bc0d-4c29-8618-4c8f35721fd0",
   "metadata": {},
   "outputs": [
    {
     "name": "stdout",
     "output_type": "stream",
     "text": [
      "proces_started...\n",
      "          icao        model typecode iatacode\n",
      "0       000001    Antonov 2      AN2      NaN\n",
      "1       000009    AT-3 R100     AAT3      NaN\n",
      "2       0000c4  737-448 /SF     B734      734\n",
      "3       0000c4  737-448 /SF     B734      73P\n",
      "4       000100      Il-76MD     IL76      IL7\n",
      "...        ...          ...      ...      ...\n",
      "519855  faa663                   TWR      NaN\n",
      "519856  faa66a                   TWR      NaN\n",
      "519857  faa86b                   TWR      NaN\n",
      "519858  faafaa                   TWR      NaN\n",
      "519859  fff20a                   TWR      NaN\n",
      "\n",
      "[519860 rows x 4 columns]\n",
      "proces_finished!\n"
     ]
    }
   ],
   "source": [
    "print(\"proces_started...\")\n",
    "df_whole_flights = pd.read_csv(OSky_data, usecols=['\\'icao24\\'','\\'typecode\\'', '\\'model\\''])\n",
    "df_icao_iata = pd.read_csv(iata_vals)\n",
    "\n",
    "df_whole_flights.rename(columns={'\\'icao24\\'': 'icao', '\\'typecode\\'': 'typecode', '\\'model\\'': 'model'}, inplace=True)\n",
    "df_whole_flights.replace(\"'\", \"\", regex=True, inplace=True)\n",
    "df_whole_flights = df_whole_flights[df_whole_flights['typecode'].str.strip() != '']\n",
    "\n",
    "df_icao_iata.rename(columns={'ICAO\\ncode[3]': 'typecode', 'IATA\\ntype code': 'iatacode'}, inplace=True)\n",
    "\n",
    "#make a model database\n",
    "model_df = df_icao_iata[['Model', 'typecode']]\n",
    "model_df = model_df.drop_duplicates(subset=['typecode'])\n",
    "    \n",
    "df_icao_iata = df_icao_iata.drop(columns = ['Model'])\n",
    "df_icao_iata = df_icao_iata[(df_icao_iata['iatacode'] != '') & (df_icao_iata['iatacode'] != '—') & (df_icao_iata['iatacode'] != '[to be determined]')]\n",
    "#pd.set_option('display.max_rows', None)\n",
    "#display(df_icao_iata)\n",
    "\n",
    "#merge to get icao-iata correspondance\n",
    "merged_df = pd.merge(df_whole_flights, df_icao_iata, on='typecode', how='left')\n",
    "#print(merged_df)\n",
    "\n",
    "#input the models that are missing from the frist database\n",
    "for index, row in merged_df.iterrows():\n",
    "    # Check if the model is empty\n",
    "    if row['model'] == '':\n",
    "        # Find the corresponding model from the second dataframe where typecode matches\n",
    "        corresponding_model = model_df.loc[model_df['typecode'] == row['typecode'], 'Model'].values\n",
    "        # Update the model in the first dataframe if a corresponding model is found\n",
    "        if len(corresponding_model) > 0:\n",
    "            merged_df.at[index, 'model'] = corresponding_model[0]\n",
    "\n",
    "merged_df.to_csv('combined_databases.csv', index = False)\n",
    "print(merged_df)\n",
    "print(\"proces_finished!\")"
   ]
  }
 ],
 "metadata": {
  "kernelspec": {
   "display_name": "Python 3 (ipykernel)",
   "language": "python",
   "name": "python3"
  },
  "language_info": {
   "codemirror_mode": {
    "name": "ipython",
    "version": 3
   },
   "file_extension": ".py",
   "mimetype": "text/x-python",
   "name": "python",
   "nbconvert_exporter": "python",
   "pygments_lexer": "ipython3",
   "version": "3.8.17"
  }
 },
 "nbformat": 4,
 "nbformat_minor": 5
}
